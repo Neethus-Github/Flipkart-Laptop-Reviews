{
 "cells": [
  {
   "cell_type": "markdown",
   "id": "34baa373",
   "metadata": {},
   "source": [
    "### Data Analysis of Flipkart Laptop Reviews\n",
    "\n",
    "This task explores and interpretes the dataset consisting of more than 24,000 real-world laptop reviews gathered from Flipkart e-commerce platform. The main objective is to analyse the data and identify the factors that influenced the good or bad review of laptop. These insights are important for the design of Decision support system in order to understand, evaluate, recommend and improve laptop products.\n",
    "\n",
    "### Development Environment\n",
    "\n",
    "1. Anaconda Environment : .conda\n",
    "2. Python version : 3.12.9\n",
    "\n",
    "Since the anaconda platform is integrated with Jupyter, Panda, NumPy and machine learning libraries, it is very useful for data science projects and also provides dependency management.\n",
    "\n",
    "### Libraries\n",
    "\n",
    "1. Pandas : For the data manipulation and cleaning\n",
    "2. matplotlib, seaborn : For the data visualization\n",
    "3. nltk : Natural Language Processing \n",
    "4. re : Regualr expression for the data cleaning\n",
    "5. collections.counter : To evaluate frequency of words\n"
   ]
  },
  {
   "cell_type": "code",
   "execution_count": 11,
   "id": "fc0b1b80",
   "metadata": {},
   "outputs": [
    {
     "name": "stdout",
     "output_type": "stream",
     "text": [
      "Requirement already satisfied: pandas in c:\\users\\neeth\\onedrive\\documents\\github\\myfirstrepository\\.conda\\lib\\site-packages (2.2.3)\n",
      "Requirement already satisfied: numpy>=1.26.0 in c:\\users\\neeth\\onedrive\\documents\\github\\myfirstrepository\\.conda\\lib\\site-packages (from pandas) (2.2.5)\n",
      "Requirement already satisfied: python-dateutil>=2.8.2 in c:\\users\\neeth\\onedrive\\documents\\github\\myfirstrepository\\.conda\\lib\\site-packages (from pandas) (2.9.0.post0)\n",
      "Requirement already satisfied: pytz>=2020.1 in c:\\users\\neeth\\onedrive\\documents\\github\\myfirstrepository\\.conda\\lib\\site-packages (from pandas) (2025.2)\n",
      "Requirement already satisfied: tzdata>=2022.7 in c:\\users\\neeth\\onedrive\\documents\\github\\myfirstrepository\\.conda\\lib\\site-packages (from pandas) (2025.2)\n",
      "Requirement already satisfied: six>=1.5 in c:\\users\\neeth\\onedrive\\documents\\github\\myfirstrepository\\.conda\\lib\\site-packages (from python-dateutil>=2.8.2->pandas) (1.17.0)\n",
      "Note: you may need to restart the kernel to use updated packages.\n"
     ]
    }
   ],
   "source": [
    "pip install pandas"
   ]
  },
  {
   "cell_type": "code",
   "execution_count": 14,
   "id": "f8cb3d67",
   "metadata": {},
   "outputs": [
    {
     "name": "stdout",
     "output_type": "stream",
     "text": [
      "<class 'pandas.core.frame.DataFrame'>\n",
      "RangeIndex: 24113 entries, 0 to 24112\n",
      "Data columns (total 7 columns):\n",
      " #   Column          Non-Null Count  Dtype  \n",
      "---  ------          --------------  -----  \n",
      " 0   product_name    24113 non-null  object \n",
      " 1   overall_rating  24113 non-null  float64\n",
      " 2   no_ratings      24113 non-null  object \n",
      " 3   no_reviews      24113 non-null  object \n",
      " 4   rating          24113 non-null  int64  \n",
      " 5   title           24113 non-null  object \n",
      " 6   review          24113 non-null  object \n",
      "dtypes: float64(1), int64(1), object(5)\n",
      "memory usage: 1.3+ MB\n"
     ]
    },
    {
     "data": {
      "text/html": [
       "<div>\n",
       "<style scoped>\n",
       "    .dataframe tbody tr th:only-of-type {\n",
       "        vertical-align: middle;\n",
       "    }\n",
       "\n",
       "    .dataframe tbody tr th {\n",
       "        vertical-align: top;\n",
       "    }\n",
       "\n",
       "    .dataframe thead th {\n",
       "        text-align: right;\n",
       "    }\n",
       "</style>\n",
       "<table border=\"1\" class=\"dataframe\">\n",
       "  <thead>\n",
       "    <tr style=\"text-align: right;\">\n",
       "      <th></th>\n",
       "      <th>product_name</th>\n",
       "      <th>overall_rating</th>\n",
       "      <th>no_ratings</th>\n",
       "      <th>no_reviews</th>\n",
       "      <th>rating</th>\n",
       "      <th>title</th>\n",
       "      <th>review</th>\n",
       "    </tr>\n",
       "  </thead>\n",
       "  <tbody>\n",
       "    <tr>\n",
       "      <th>0</th>\n",
       "      <td>Apple MacBook AIR Apple M2 - (8 GB/256 GB SSD/...</td>\n",
       "      <td>4.7</td>\n",
       "      <td>15,210</td>\n",
       "      <td>900</td>\n",
       "      <td>5</td>\n",
       "      <td>Perfect product!</td>\n",
       "      <td>Loved it, it's my first MacBook that I earned ...</td>\n",
       "    </tr>\n",
       "    <tr>\n",
       "      <th>1</th>\n",
       "      <td>Apple MacBook AIR Apple M2 - (8 GB/256 GB SSD/...</td>\n",
       "      <td>4.7</td>\n",
       "      <td>15,210</td>\n",
       "      <td>900</td>\n",
       "      <td>5</td>\n",
       "      <td>Fabulous!</td>\n",
       "      <td>Battery lasted longer than my first relationsh...</td>\n",
       "    </tr>\n",
       "    <tr>\n",
       "      <th>2</th>\n",
       "      <td>Apple MacBook AIR Apple M2 - (8 GB/256 GB SSD/...</td>\n",
       "      <td>4.7</td>\n",
       "      <td>15,210</td>\n",
       "      <td>900</td>\n",
       "      <td>5</td>\n",
       "      <td>Fabulous!</td>\n",
       "      <td>Such a great deal.. very happy with the perfor...</td>\n",
       "    </tr>\n",
       "    <tr>\n",
       "      <th>3</th>\n",
       "      <td>Apple MacBook AIR Apple M2 - (8 GB/256 GB SSD/...</td>\n",
       "      <td>4.7</td>\n",
       "      <td>15,210</td>\n",
       "      <td>900</td>\n",
       "      <td>4</td>\n",
       "      <td>Delightful</td>\n",
       "      <td>Awesome build quality and very good display, b...</td>\n",
       "    </tr>\n",
       "    <tr>\n",
       "      <th>4</th>\n",
       "      <td>Apple MacBook AIR Apple M2 - (8 GB/256 GB SSD/...</td>\n",
       "      <td>4.7</td>\n",
       "      <td>15,210</td>\n",
       "      <td>900</td>\n",
       "      <td>5</td>\n",
       "      <td>Awesome</td>\n",
       "      <td>When i ordered and came to know about seller r...</td>\n",
       "    </tr>\n",
       "  </tbody>\n",
       "</table>\n",
       "</div>"
      ],
      "text/plain": [
       "                                        product_name  overall_rating  \\\n",
       "0  Apple MacBook AIR Apple M2 - (8 GB/256 GB SSD/...             4.7   \n",
       "1  Apple MacBook AIR Apple M2 - (8 GB/256 GB SSD/...             4.7   \n",
       "2  Apple MacBook AIR Apple M2 - (8 GB/256 GB SSD/...             4.7   \n",
       "3  Apple MacBook AIR Apple M2 - (8 GB/256 GB SSD/...             4.7   \n",
       "4  Apple MacBook AIR Apple M2 - (8 GB/256 GB SSD/...             4.7   \n",
       "\n",
       "  no_ratings no_reviews  rating             title  \\\n",
       "0     15,210        900       5  Perfect product!   \n",
       "1     15,210        900       5         Fabulous!   \n",
       "2     15,210        900       5         Fabulous!   \n",
       "3     15,210        900       4        Delightful   \n",
       "4     15,210        900       5           Awesome   \n",
       "\n",
       "                                              review  \n",
       "0  Loved it, it's my first MacBook that I earned ...  \n",
       "1  Battery lasted longer than my first relationsh...  \n",
       "2  Such a great deal.. very happy with the perfor...  \n",
       "3  Awesome build quality and very good display, b...  \n",
       "4  When i ordered and came to know about seller r...  "
      ]
     },
     "execution_count": 14,
     "metadata": {},
     "output_type": "execute_result"
    }
   ],
   "source": [
    "import pandas as pd\n",
    "\n",
    "# Load the dataset\n",
    "df = pd.read_csv('Data/laptops_dataset_final_600.csv')\n",
    "\n",
    "# Display basic information of dataset\n",
    "df.info()\n",
    "\n",
    "# Shows first few rows of the dataset\n",
    "df.head()"
   ]
  },
  {
   "cell_type": "markdown",
   "id": "42c40c01",
   "metadata": {},
   "source": [
    "### Data Cleaning\n",
    "\n",
    "Data Cleaning is the technique of removing the data which are corrupted, incomplete, inaccurate and not formatted correctly. Data cleaning is crucial for the data-driven analysis and deriving insights. \n",
    "\n",
    "In this task, we are using several methods.\n",
    "\n",
    "1. Removes white space and converting to lower case."
   ]
  },
  {
   "cell_type": "code",
   "execution_count": 15,
   "id": "b2c43c6c",
   "metadata": {},
   "outputs": [],
   "source": [
    "# Removes leading and trailing spaces from column names and convert to lower case\n",
    "df.columns = df.columns.str.strip().str.lower()\n",
    "\n",
    "# Remove leading and trailing spaces from string column values\n",
    "df['product_name'] = df['product_name'].str.strip()\n",
    "df['title'] = df['title'].str.strip()\n",
    "df['review'] = df['review'].str.strip()"
   ]
  },
  {
   "cell_type": "markdown",
   "id": "7ba0fc87",
   "metadata": {},
   "source": [
    "2. Clean no_ratings and no_reviews columns\n",
    "\n",
    "   This step removes commas from large numbers and convert the string type to integer"
   ]
  },
  {
   "cell_type": "code",
   "execution_count": 17,
   "id": "3df93bc8",
   "metadata": {},
   "outputs": [],
   "source": [
    "# For the columns no_ratings and no_reviews, ensure they are strings, remove commas from numbers, and convert to integer type\n",
    "df['no_ratings'] = df['no_ratings'].astype(str).str.replace(',', '').astype(int)\n",
    "df['no_reviews'] = df['no_reviews'].astype(str).str.replace(',', '').astype(int)\n"
   ]
  },
  {
   "cell_type": "markdown",
   "id": "3b51fb03",
   "metadata": {},
   "source": [
    "3. Remove non-ASCII charcters using regualr expression"
   ]
  },
  {
   "cell_type": "code",
   "execution_count": 18,
   "id": "5a63f7bb",
   "metadata": {},
   "outputs": [],
   "source": [
    "# Import regular expression module\n",
    "import re\n",
    "\n",
    "# Removes non-ASCII characters from the 'review' and 'title' columns\n",
    "df['review'] = df['review'].apply(lambda x: re.sub(r'[^\\x00-\\x7F]+', '', x))\n",
    "df['title'] = df['title'].apply(lambda x: re.sub(r'[^\\x00-\\x7F]+', '', x))\n"
   ]
  },
  {
   "cell_type": "markdown",
   "id": "74bc76a4",
   "metadata": {},
   "source": [
    "4. Handling missing data"
   ]
  },
  {
   "cell_type": "code",
   "execution_count": 19,
   "id": "cee2df8b",
   "metadata": {},
   "outputs": [
    {
     "data": {
      "text/plain": [
       "product_name      0\n",
       "overall_rating    0\n",
       "no_ratings        0\n",
       "no_reviews        0\n",
       "rating            0\n",
       "title             0\n",
       "review            0\n",
       "dtype: int64"
      ]
     },
     "execution_count": 19,
     "metadata": {},
     "output_type": "execute_result"
    }
   ],
   "source": [
    "# check if the dataset consists of null values\n",
    "df.isnull().sum()\n"
   ]
  },
  {
   "cell_type": "markdown",
   "id": "efb0cd03",
   "metadata": {},
   "source": [
    "The above results shows that there are no missing values in the dataset"
   ]
  },
  {
   "cell_type": "markdown",
   "id": "18200130",
   "metadata": {},
   "source": [
    "5. Reset the index to conitinous sequence\n",
    "\n",
    "   After the data formatting and cleaning, row indices could be misordered. We need to reset the index back to the clean continous sequence starting from zero."
   ]
  },
  {
   "cell_type": "code",
   "execution_count": 20,
   "id": "c7d15eba",
   "metadata": {},
   "outputs": [],
   "source": [
    "# Resets the index back to a continuous sequence that starts from 0\n",
    "df.reset_index(drop=True, inplace=True)"
   ]
  },
  {
   "cell_type": "code",
   "execution_count": 21,
   "id": "ccfb088c",
   "metadata": {},
   "outputs": [],
   "source": [
    "# Save cleaned dataframe into a new CSV file\n",
    "df.to_csv('Data/cleaned_laptop_reviews.csv', index=False)\n"
   ]
  },
  {
   "cell_type": "code",
   "execution_count": 22,
   "id": "e5b07fb9",
   "metadata": {},
   "outputs": [
    {
     "data": {
      "text/html": [
       "<div>\n",
       "<style scoped>\n",
       "    .dataframe tbody tr th:only-of-type {\n",
       "        vertical-align: middle;\n",
       "    }\n",
       "\n",
       "    .dataframe tbody tr th {\n",
       "        vertical-align: top;\n",
       "    }\n",
       "\n",
       "    .dataframe thead th {\n",
       "        text-align: right;\n",
       "    }\n",
       "</style>\n",
       "<table border=\"1\" class=\"dataframe\">\n",
       "  <thead>\n",
       "    <tr style=\"text-align: right;\">\n",
       "      <th></th>\n",
       "      <th>product_name</th>\n",
       "      <th>overall_rating</th>\n",
       "      <th>no_ratings</th>\n",
       "      <th>no_reviews</th>\n",
       "      <th>rating</th>\n",
       "      <th>title</th>\n",
       "      <th>review</th>\n",
       "    </tr>\n",
       "  </thead>\n",
       "  <tbody>\n",
       "    <tr>\n",
       "      <th>0</th>\n",
       "      <td>Apple MacBook AIR Apple M2 - (8 GB/256 GB SSD/...</td>\n",
       "      <td>4.7</td>\n",
       "      <td>15210</td>\n",
       "      <td>900</td>\n",
       "      <td>5</td>\n",
       "      <td>Perfect product!</td>\n",
       "      <td>Loved it, it's my first MacBook that I earned ...</td>\n",
       "    </tr>\n",
       "    <tr>\n",
       "      <th>1</th>\n",
       "      <td>Apple MacBook AIR Apple M2 - (8 GB/256 GB SSD/...</td>\n",
       "      <td>4.7</td>\n",
       "      <td>15210</td>\n",
       "      <td>900</td>\n",
       "      <td>5</td>\n",
       "      <td>Fabulous!</td>\n",
       "      <td>Battery lasted longer than my first relationsh...</td>\n",
       "    </tr>\n",
       "    <tr>\n",
       "      <th>2</th>\n",
       "      <td>Apple MacBook AIR Apple M2 - (8 GB/256 GB SSD/...</td>\n",
       "      <td>4.7</td>\n",
       "      <td>15210</td>\n",
       "      <td>900</td>\n",
       "      <td>5</td>\n",
       "      <td>Fabulous!</td>\n",
       "      <td>Such a great deal.. very happy with the perfor...</td>\n",
       "    </tr>\n",
       "    <tr>\n",
       "      <th>3</th>\n",
       "      <td>Apple MacBook AIR Apple M2 - (8 GB/256 GB SSD/...</td>\n",
       "      <td>4.7</td>\n",
       "      <td>15210</td>\n",
       "      <td>900</td>\n",
       "      <td>4</td>\n",
       "      <td>Delightful</td>\n",
       "      <td>Awesome build quality and very good display, b...</td>\n",
       "    </tr>\n",
       "    <tr>\n",
       "      <th>4</th>\n",
       "      <td>Apple MacBook AIR Apple M2 - (8 GB/256 GB SSD/...</td>\n",
       "      <td>4.7</td>\n",
       "      <td>15210</td>\n",
       "      <td>900</td>\n",
       "      <td>5</td>\n",
       "      <td>Awesome</td>\n",
       "      <td>When i ordered and came to know about seller r...</td>\n",
       "    </tr>\n",
       "  </tbody>\n",
       "</table>\n",
       "</div>"
      ],
      "text/plain": [
       "                                        product_name  overall_rating  \\\n",
       "0  Apple MacBook AIR Apple M2 - (8 GB/256 GB SSD/...             4.7   \n",
       "1  Apple MacBook AIR Apple M2 - (8 GB/256 GB SSD/...             4.7   \n",
       "2  Apple MacBook AIR Apple M2 - (8 GB/256 GB SSD/...             4.7   \n",
       "3  Apple MacBook AIR Apple M2 - (8 GB/256 GB SSD/...             4.7   \n",
       "4  Apple MacBook AIR Apple M2 - (8 GB/256 GB SSD/...             4.7   \n",
       "\n",
       "   no_ratings  no_reviews  rating             title  \\\n",
       "0       15210         900       5  Perfect product!   \n",
       "1       15210         900       5         Fabulous!   \n",
       "2       15210         900       5         Fabulous!   \n",
       "3       15210         900       4        Delightful   \n",
       "4       15210         900       5           Awesome   \n",
       "\n",
       "                                              review  \n",
       "0  Loved it, it's my first MacBook that I earned ...  \n",
       "1  Battery lasted longer than my first relationsh...  \n",
       "2  Such a great deal.. very happy with the perfor...  \n",
       "3  Awesome build quality and very good display, b...  \n",
       "4  When i ordered and came to know about seller r...  "
      ]
     },
     "execution_count": 22,
     "metadata": {},
     "output_type": "execute_result"
    }
   ],
   "source": [
    "# Shows first few rows of the dataset\n",
    "df.head()"
   ]
  },
  {
   "cell_type": "markdown",
   "id": "7b8574e1",
   "metadata": {},
   "source": [
    "##### Different trends that can be explored and visualized from this laptop reviews dataset is provided below.\n",
    "\n",
    "1. Rating Distribution\n",
    "\n",
    "    The below plot shows how different ratings (from 1 to 5 stars) are spread across the dataset."
   ]
  },
  {
   "cell_type": "code",
   "execution_count": 22,
   "id": "5b35e52d",
   "metadata": {},
   "outputs": [
    {
     "name": "stdout",
     "output_type": "stream",
     "text": [
      "Collecting seaborn\n",
      "  Using cached seaborn-0.13.2-py3-none-any.whl.metadata (5.4 kB)\n",
      "Requirement already satisfied: numpy!=1.24.0,>=1.20 in c:\\users\\neeth\\onedrive\\documents\\github\\myfirstrepository\\.conda\\lib\\site-packages (from seaborn) (2.2.5)\n",
      "Requirement already satisfied: pandas>=1.2 in c:\\users\\neeth\\onedrive\\documents\\github\\myfirstrepository\\.conda\\lib\\site-packages (from seaborn) (2.2.3)\n",
      "Collecting matplotlib!=3.6.1,>=3.4 (from seaborn)\n",
      "  Downloading matplotlib-3.10.1-cp312-cp312-win_amd64.whl.metadata (11 kB)\n",
      "Collecting contourpy>=1.0.1 (from matplotlib!=3.6.1,>=3.4->seaborn)\n",
      "  Downloading contourpy-1.3.2-cp312-cp312-win_amd64.whl.metadata (5.5 kB)\n",
      "Collecting cycler>=0.10 (from matplotlib!=3.6.1,>=3.4->seaborn)\n",
      "  Using cached cycler-0.12.1-py3-none-any.whl.metadata (3.8 kB)\n",
      "Collecting fonttools>=4.22.0 (from matplotlib!=3.6.1,>=3.4->seaborn)\n",
      "  Downloading fonttools-4.57.0-cp312-cp312-win_amd64.whl.metadata (104 kB)\n",
      "Collecting kiwisolver>=1.3.1 (from matplotlib!=3.6.1,>=3.4->seaborn)\n",
      "  Downloading kiwisolver-1.4.8-cp312-cp312-win_amd64.whl.metadata (6.3 kB)\n",
      "Requirement already satisfied: packaging>=20.0 in c:\\users\\neeth\\onedrive\\documents\\github\\myfirstrepository\\.conda\\lib\\site-packages (from matplotlib!=3.6.1,>=3.4->seaborn) (25.0)\n",
      "Collecting pillow>=8 (from matplotlib!=3.6.1,>=3.4->seaborn)\n",
      "  Downloading pillow-11.2.1-cp312-cp312-win_amd64.whl.metadata (9.1 kB)\n",
      "Collecting pyparsing>=2.3.1 (from matplotlib!=3.6.1,>=3.4->seaborn)\n",
      "  Downloading pyparsing-3.2.3-py3-none-any.whl.metadata (5.0 kB)\n",
      "Requirement already satisfied: python-dateutil>=2.7 in c:\\users\\neeth\\onedrive\\documents\\github\\myfirstrepository\\.conda\\lib\\site-packages (from matplotlib!=3.6.1,>=3.4->seaborn) (2.9.0.post0)\n",
      "Requirement already satisfied: pytz>=2020.1 in c:\\users\\neeth\\onedrive\\documents\\github\\myfirstrepository\\.conda\\lib\\site-packages (from pandas>=1.2->seaborn) (2025.2)\n",
      "Requirement already satisfied: tzdata>=2022.7 in c:\\users\\neeth\\onedrive\\documents\\github\\myfirstrepository\\.conda\\lib\\site-packages (from pandas>=1.2->seaborn) (2025.2)\n",
      "Requirement already satisfied: six>=1.5 in c:\\users\\neeth\\onedrive\\documents\\github\\myfirstrepository\\.conda\\lib\\site-packages (from python-dateutil>=2.7->matplotlib!=3.6.1,>=3.4->seaborn) (1.17.0)\n",
      "Using cached seaborn-0.13.2-py3-none-any.whl (294 kB)\n",
      "Downloading matplotlib-3.10.1-cp312-cp312-win_amd64.whl (8.1 MB)\n",
      "   ---------------------------------------- 0.0/8.1 MB ? eta -:--:--\n",
      "   - -------------------------------------- 0.3/8.1 MB ? eta -:--:--\n",
      "   ------ --------------------------------- 1.3/8.1 MB 4.2 MB/s eta 0:00:02\n",
      "   ------------------ --------------------- 3.7/8.1 MB 7.5 MB/s eta 0:00:01\n",
      "   ---------------------------- ----------- 5.8/8.1 MB 9.0 MB/s eta 0:00:01\n",
      "   ---------------------------------------- 8.1/8.1 MB 9.1 MB/s eta 0:00:00\n",
      "Downloading contourpy-1.3.2-cp312-cp312-win_amd64.whl (223 kB)\n",
      "Using cached cycler-0.12.1-py3-none-any.whl (8.3 kB)\n",
      "Downloading fonttools-4.57.0-cp312-cp312-win_amd64.whl (2.2 MB)\n",
      "   ---------------------------------------- 0.0/2.2 MB ? eta -:--:--\n",
      "   ---------------------------------------- 2.2/2.2 MB 10.3 MB/s eta 0:00:00\n",
      "Downloading kiwisolver-1.4.8-cp312-cp312-win_amd64.whl (71 kB)\n",
      "Downloading pillow-11.2.1-cp312-cp312-win_amd64.whl (2.7 MB)\n",
      "   ---------------------------------------- 0.0/2.7 MB ? eta -:--:--\n",
      "   --------------------------- ------------ 1.8/2.7 MB 8.4 MB/s eta 0:00:01\n",
      "   ---------------------------------------- 2.7/2.7 MB 9.1 MB/s eta 0:00:00\n",
      "Downloading pyparsing-3.2.3-py3-none-any.whl (111 kB)\n",
      "Installing collected packages: pyparsing, pillow, kiwisolver, fonttools, cycler, contourpy, matplotlib, seaborn\n",
      "\n",
      "   ----- ---------------------------------- 1/8 [pillow]\n",
      "   ----- ---------------------------------- 1/8 [pillow]\n",
      "   ----- ---------------------------------- 1/8 [pillow]\n",
      "   ----- ---------------------------------- 1/8 [pillow]\n",
      "   ----- ---------------------------------- 1/8 [pillow]\n",
      "   --------------- ------------------------ 3/8 [fonttools]\n",
      "   --------------- ------------------------ 3/8 [fonttools]\n",
      "   --------------- ------------------------ 3/8 [fonttools]\n",
      "   --------------- ------------------------ 3/8 [fonttools]\n",
      "   --------------- ------------------------ 3/8 [fonttools]\n",
      "   --------------- ------------------------ 3/8 [fonttools]\n",
      "   --------------- ------------------------ 3/8 [fonttools]\n",
      "   --------------- ------------------------ 3/8 [fonttools]\n",
      "   --------------- ------------------------ 3/8 [fonttools]\n",
      "   --------------- ------------------------ 3/8 [fonttools]\n",
      "   --------------- ------------------------ 3/8 [fonttools]\n",
      "   --------------- ------------------------ 3/8 [fonttools]\n",
      "   --------------- ------------------------ 3/8 [fonttools]\n",
      "   ------------------------- -------------- 5/8 [contourpy]\n",
      "   ------------------------------ --------- 6/8 [matplotlib]\n",
      "   ------------------------------ --------- 6/8 [matplotlib]\n",
      "   ------------------------------ --------- 6/8 [matplotlib]\n",
      "   ------------------------------ --------- 6/8 [matplotlib]\n",
      "   ------------------------------ --------- 6/8 [matplotlib]\n",
      "   ------------------------------ --------- 6/8 [matplotlib]\n",
      "   ------------------------------ --------- 6/8 [matplotlib]\n",
      "   ------------------------------ --------- 6/8 [matplotlib]\n",
      "   ------------------------------ --------- 6/8 [matplotlib]\n",
      "   ------------------------------ --------- 6/8 [matplotlib]\n",
      "   ------------------------------ --------- 6/8 [matplotlib]\n",
      "   ------------------------------ --------- 6/8 [matplotlib]\n",
      "   ------------------------------ --------- 6/8 [matplotlib]\n",
      "   ------------------------------ --------- 6/8 [matplotlib]\n",
      "   ------------------------------ --------- 6/8 [matplotlib]\n",
      "   ------------------------------ --------- 6/8 [matplotlib]\n",
      "   ------------------------------ --------- 6/8 [matplotlib]\n",
      "   ------------------------------ --------- 6/8 [matplotlib]\n",
      "   ----------------------------------- ---- 7/8 [seaborn]\n",
      "   ----------------------------------- ---- 7/8 [seaborn]\n",
      "   ----------------------------------- ---- 7/8 [seaborn]\n",
      "   ---------------------------------------- 8/8 [seaborn]\n",
      "\n",
      "Successfully installed contourpy-1.3.2 cycler-0.12.1 fonttools-4.57.0 kiwisolver-1.4.8 matplotlib-3.10.1 pillow-11.2.1 pyparsing-3.2.3 seaborn-0.13.2\n",
      "Note: you may need to restart the kernel to use updated packages.\n"
     ]
    }
   ],
   "source": [
    "pip install seaborn"
   ]
  },
  {
   "cell_type": "code",
   "execution_count": 23,
   "id": "cea0f9b8",
   "metadata": {},
   "outputs": [
    {
     "name": "stderr",
     "output_type": "stream",
     "text": [
      "C:\\Users\\neeth\\AppData\\Local\\Temp\\ipykernel_13452\\2207010907.py:5: FutureWarning: \n",
      "\n",
      "Passing `palette` without assigning `hue` is deprecated and will be removed in v0.14.0. Assign the `x` variable to `hue` and set `legend=False` for the same effect.\n",
      "\n",
      "  sns.countplot(x='rating', data=df, palette='viridis')\n"
     ]
    },
    {
     "data": {
      "image/png": "[encoded data removed]",
      "text/plain": [
       "<Figure size 640x480 with 1 Axes>"
      ]
     },
     "metadata": {},
     "output_type": "display_data"
    }
   ],
   "source": [
    "import seaborn as sns\n",
    "import matplotlib.pyplot as plt\n",
    "\n",
    "# Counts how many reviews are available for each rating\n",
    "sns.countplot(x='rating', data=df, palette='viridis')\n",
    "plt.title('Distribution of Review Ratings')\n",
    "plt.xlabel('Rating')\n",
    "plt.ylabel('Count')\n",
    "plt.show()\n"
   ]
  },
  {
   "cell_type": "markdown",
   "id": "071a4449",
   "metadata": {},
   "source": [
    "This bar chart demonstrates the number of reviews corresponding to each rating category from 1 to 5 stars.\n",
    "x-axis represents rating and the y-axis represents count of reviews. It is clear from the chart that most of the users provided 5-star ratings and it is observed that over 14000 reviews are positive. Second most common reviews are coming under 4-star reviews. 1-star and 3-star reviews are moderate and very few reviews for the 2-star rating"
   ]
  },
  {
   "cell_type": "markdown",
   "id": "67ba2489",
   "metadata": {},
   "source": [
    "2. Trend between Review length and Rating\n",
    "\n",
    "   To understand whether the length of review associated with good or bad laptop review."
   ]
  },
  {
   "cell_type": "code",
   "execution_count": 24,
   "id": "0ba6208c",
   "metadata": {},
   "outputs": [
    {
     "data": {
      "image/png": "[encoded data removed]",
      "text/plain": [
       "<Figure size 640x480 with 1 Axes>"
      ]
     },
     "metadata": {},
     "output_type": "display_data"
    },
    {
     "data": {
      "text/html": [
       "<div>\n",
       "<style scoped>\n",
       "    .dataframe tbody tr th:only-of-type {\n",
       "        vertical-align: middle;\n",
       "    }\n",
       "\n",
       "    .dataframe tbody tr th {\n",
       "        vertical-align: top;\n",
       "    }\n",
       "\n",
       "    .dataframe thead th {\n",
       "        text-align: right;\n",
       "    }\n",
       "</style>\n",
       "<table border=\"1\" class=\"dataframe\">\n",
       "  <thead>\n",
       "    <tr style=\"text-align: right;\">\n",
       "      <th></th>\n",
       "      <th>rating</th>\n",
       "      <th>average_review_length</th>\n",
       "    </tr>\n",
       "  </thead>\n",
       "  <tbody>\n",
       "    <tr>\n",
       "      <th>0</th>\n",
       "      <td>1</td>\n",
       "      <td>18.525152</td>\n",
       "    </tr>\n",
       "    <tr>\n",
       "      <th>1</th>\n",
       "      <td>2</td>\n",
       "      <td>18.992515</td>\n",
       "    </tr>\n",
       "    <tr>\n",
       "      <th>2</th>\n",
       "      <td>3</td>\n",
       "      <td>19.268305</td>\n",
       "    </tr>\n",
       "    <tr>\n",
       "      <th>3</th>\n",
       "      <td>4</td>\n",
       "      <td>18.674010</td>\n",
       "    </tr>\n",
       "    <tr>\n",
       "      <th>4</th>\n",
       "      <td>5</td>\n",
       "      <td>16.258517</td>\n",
       "    </tr>\n",
       "  </tbody>\n",
       "</table>\n",
       "</div>"
      ],
      "text/plain": [
       "   rating  average_review_length\n",
       "0       1              18.525152\n",
       "1       2              18.992515\n",
       "2       3              19.268305\n",
       "3       4              18.674010\n",
       "4       5              16.258517"
      ]
     },
     "execution_count": 24,
     "metadata": {},
     "output_type": "execute_result"
    }
   ],
   "source": [
    "# Calculates number of words in each review and creates a new column 'review_length' in the dataframe\n",
    "# str(x).split splits the review text into words and len() calculates the count of words and store it in the column 'review_length'\n",
    "df['review_length'] = df['review'].apply(lambda x: len(str(x).split()))\n",
    "\n",
    "# Visualize relationship by creating box plot\n",
    "sns.boxplot(x='rating', y='review_length', data=df)\n",
    "plt.title('Review Length vs Rating')\n",
    "plt.show()\n",
    "\n",
    "# Group the data by rating and calculate the average review length for each rating\n",
    "avg_length_by_rating = df.groupby('rating')['review_length'].mean().reset_index()\n",
    "avg_length_by_rating.columns = ['rating', 'average_review_length']\n",
    "avg_length_by_rating\n"
   ]
  },
  {
   "cell_type": "markdown",
   "id": "844fceb8",
   "metadata": {},
   "source": [
    "From the above analysis, it is clear that 1-3 star reviews are bit longer compared to 4-5 star reviews. Negative reviews may contain issues related to performance, quality, battery and heating issues leading to longer explanation. Positive reviews are very clear and concise without the elaboration. This trend is useful for the sentiment analysis modeling where review length can be used as important feature for the prediction."
   ]
  },
  {
   "cell_type": "markdown",
   "id": "e6bfe5eb",
   "metadata": {},
   "source": [
    "3. Most Reviewd Laptop models\n",
    "\n",
    "   To understand top 10 laptop models that received more reviews. Top laptops by the number of reviews helps to identify the popular laptop model and the brand preference."
   ]
  },
  {
   "cell_type": "code",
   "execution_count": 25,
   "id": "4a7107d0",
   "metadata": {},
   "outputs": [
    {
     "data": {
      "image/png": "[encoded data removed]",
      "text/plain": [
       "<Figure size 1000x600 with 1 Axes>"
      ]
     },
     "metadata": {},
     "output_type": "display_data"
    }
   ],
   "source": [
    "# count review for each laptop. value_count() counts the number of times each laptop product appears in the dataset\n",
    "top_laptops = df['product_name'].value_counts().head(10)\n",
    "top_laptops.plot(kind='barh', figsize=(10, 6), title='Top 10 Most Reviewed Laptops')\n",
    "plt.xlabel('Number of Reviews')\n",
    "plt.gca().invert_yaxis()\n",
    "plt.show()\n"
   ]
  },
  {
   "cell_type": "markdown",
   "id": "aba860fc",
   "metadata": {},
   "source": [
    "4. Average Rating based on product\n",
    "\n",
    "   Shows products having highest average rating and lowest average rating"
   ]
  },
  {
   "cell_type": "code",
   "execution_count": 26,
   "id": "bb8dc422",
   "metadata": {},
   "outputs": [
    {
     "name": "stdout",
     "output_type": "stream",
     "text": [
      "Highest Rated Product: ASUS AMD Ryzen 5 Quad Core - (16 GB/512 GB SSD/Windows 11 Home... with a rating of 5.0\n",
      "Lowest Rated Product: HP Victus Intel Core i7 12th Gen 12650H - (16 GB/1 TB SSD/Wind... with a rating of 1.0\n"
     ]
    }
   ],
   "source": [
    "# Group the data by product name and calculate the average rating for each product\n",
    "avg_rating = df.groupby('product_name')['rating'].mean()\n",
    "\n",
    "# Product with the highest average rating\n",
    "highest_rated_product = avg_rating.idxmax()\n",
    "highest_rating = avg_rating.max()\n",
    "\n",
    "print(f\"Highest Rated Product: {highest_rated_product} with a rating of {highest_rating}\")\n",
    "\n",
    "# Product with the lowest average rating\n",
    "lowest_rated_product = avg_rating.idxmin()\n",
    "lowest_rating = avg_rating.min()\n",
    "print(f\"Lowest Rated Product: {lowest_rated_product} with a rating of {lowest_rating}\")\n"
   ]
  },
  {
   "cell_type": "markdown",
   "id": "6bdc54cb",
   "metadata": {},
   "source": [
    "##### What feature contibutes to good or bad laptop reviews?\n",
    "\n",
    "In order to identify what factors governed the occurence of good or bad review, we can analyse the most frequently used words in the reviews written by users. For that, reviews needs to be split into two groups: Positive and Negative reviews. Positive reviews are the reviews that got rating of 4 and 5 stars, whereas negative reviews are those reviews that got rating of 1 and 2 stars.\n",
    "\n",
    "Approach: Natural Language Processing is used to analyse the text. Overall steps are listed below:\n",
    "\n",
    "1. Data Cleaning : Remove punctuation, stopwords and convert all the words to lowercase.\n",
    "2. Tokenize words : Divide the sentence into words.\n",
    "3. Group positive and negative reviews\n",
    "3. Count word frequencies : Count how many times each words occured for postive as well as negative reviews."
   ]
  },
  {
   "cell_type": "code",
   "execution_count": 35,
   "id": "828739cf",
   "metadata": {},
   "outputs": [
    {
     "name": "stdout",
     "output_type": "stream",
     "text": [
      "Collecting nltk\n",
      "  Downloading nltk-3.9.1-py3-none-any.whl.metadata (2.9 kB)\n",
      "Collecting click (from nltk)\n",
      "  Using cached click-8.1.8-py3-none-any.whl.metadata (2.3 kB)\n",
      "Collecting joblib (from nltk)\n",
      "  Downloading joblib-1.5.0-py3-none-any.whl.metadata (5.6 kB)\n",
      "Collecting regex>=2021.8.3 (from nltk)\n",
      "  Downloading regex-2024.11.6-cp312-cp312-win_amd64.whl.metadata (41 kB)\n",
      "Collecting tqdm (from nltk)\n",
      "  Downloading tqdm-4.67.1-py3-none-any.whl.metadata (57 kB)\n",
      "Requirement already satisfied: colorama in c:\\users\\neeth\\onedrive\\documents\\github\\myfirstrepository\\.conda\\lib\\site-packages (from click->nltk) (0.4.6)\n",
      "Downloading nltk-3.9.1-py3-none-any.whl (1.5 MB)\n",
      "   ---------------------------------------- 0.0/1.5 MB ? eta -:--:--\n",
      "   -------------------- ------------------- 0.8/1.5 MB 5.6 MB/s eta 0:00:01\n",
      "   ---------------------------------------- 1.5/1.5 MB 5.3 MB/s eta 0:00:00\n",
      "Downloading regex-2024.11.6-cp312-cp312-win_amd64.whl (273 kB)\n",
      "Using cached click-8.1.8-py3-none-any.whl (98 kB)\n",
      "Downloading joblib-1.5.0-py3-none-any.whl (307 kB)\n",
      "Downloading tqdm-4.67.1-py3-none-any.whl (78 kB)\n",
      "Installing collected packages: tqdm, regex, joblib, click, nltk\n",
      "\n",
      "   -------- ------------------------------- 1/5 [regex]\n",
      "   ---------------- ----------------------- 2/5 [joblib]\n",
      "   ---------------- ----------------------- 2/5 [joblib]\n",
      "   ---------------- ----------------------- 2/5 [joblib]\n",
      "   ------------------------ --------------- 3/5 [click]\n",
      "   -------------------------------- ------- 4/5 [nltk]\n",
      "   -------------------------------- ------- 4/5 [nltk]\n",
      "   -------------------------------- ------- 4/5 [nltk]\n",
      "   -------------------------------- ------- 4/5 [nltk]\n",
      "   -------------------------------- ------- 4/5 [nltk]\n",
      "   -------------------------------- ------- 4/5 [nltk]\n",
      "   -------------------------------- ------- 4/5 [nltk]\n",
      "   -------------------------------- ------- 4/5 [nltk]\n",
      "   -------------------------------- ------- 4/5 [nltk]\n",
      "   -------------------------------- ------- 4/5 [nltk]\n",
      "   -------------------------------- ------- 4/5 [nltk]\n",
      "   -------------------------------- ------- 4/5 [nltk]\n",
      "   -------------------------------- ------- 4/5 [nltk]\n",
      "   ---------------------------------------- 5/5 [nltk]\n",
      "\n",
      "Successfully installed click-8.1.8 joblib-1.5.0 nltk-3.9.1 regex-2024.11.6 tqdm-4.67.1\n",
      "Note: you may need to restart the kernel to use updated packages.\n"
     ]
    }
   ],
   "source": [
    "pip install nltk"
   ]
  },
  {
   "cell_type": "code",
   "execution_count": 27,
   "id": "972b72a0",
   "metadata": {},
   "outputs": [
    {
     "name": "stderr",
     "output_type": "stream",
     "text": [
      "[nltk_data] Downloading package stopwords to\n",
      "[nltk_data]     C:\\Users\\neeth\\AppData\\Roaming\\nltk_data...\n",
      "[nltk_data]   Package stopwords is already up-to-date!\n"
     ]
    },
    {
     "name": "stdout",
     "output_type": "stream",
     "text": [
      "Top words in good reviews: [('good', 9863), ('laptop', 6583), ('product', 4693), ('battery', 3579), ('performance', 3110), ('best', 3050), ('nice', 2733), ('display', 2294), ('value', 2247), ('price', 2218)]\n",
      "Top words in bad reviews: [('laptop', 821), ('battery', 602), ('product', 534), ('buy', 433), ('bad', 413), ('quality', 345), ('good', 331), ('worst', 326), ('working', 265), ('display', 264)]\n"
     ]
    }
   ],
   "source": [
    "# Import Counter which is the dict subclass from the module collections.\n",
    "from collections import Counter\n",
    "\n",
    "# stopwords are the words such as 'the', 'and', 'is' \n",
    "from nltk.corpus import stopwords\n",
    "\n",
    "# Import Natural Language Toolkit\n",
    "import nltk\n",
    "\n",
    "# Download the stopwords from nltk\n",
    "nltk.download('stopwords')\n",
    "\n",
    "# Function to clean the text\n",
    "def clean_text(text):\n",
    "    # Convert text to lowercase\n",
    "    text = text.lower()\n",
    "    # Split the text into words\n",
    "    tokens = text.split()\n",
    "    # Exclude stopwords and short words\n",
    "    tokens = [word for word in tokens if word not in stopwords.words('english') and len(word) > 2]\n",
    "    # Returns list of meaningful words after excluding stopwords and short words\n",
    "    return tokens\n",
    "\n",
    "# Group positive and negative reviews\n",
    "positive_reviews = df[df['rating'] >= 4]['review'].apply(clean_text).sum()\n",
    "negative_reviews = df[df['rating'] <= 2]['review'].apply(clean_text).sum()\n",
    "\n",
    "# Get top 10 frequent words in positive reviews and negative reviews\n",
    "positive_common = Counter(positive_reviews).most_common(10)\n",
    "negative_common = Counter(negative_reviews).most_common(10)\n",
    "\n",
    "print(\"Top words in good reviews:\", positive_common)\n",
    "print(\"Top words in bad reviews:\", negative_common)\n"
   ]
  },
  {
   "cell_type": "markdown",
   "id": "e5122cf9",
   "metadata": {},
   "source": [
    "#### Findings\n",
    "\n",
    "The output clearly shows that most common words in good reviews are 'good', 'battery', 'performance', 'display', 'value' and 'price' and the most common words in bad reviews are 'battery', 'quality', 'working' and 'display'. Negative reviews are less compared to postive reviews. From the results, in general, the factors 'battery', 'display' and 'price' governed the likelihood of positive reviews.  "
   ]
  },
  {
   "cell_type": "markdown",
   "id": "7fce5e1d",
   "metadata": {},
   "source": [
    "Similarly, we can do the keyword analysis per product to understand what factors contribute to the likelihood of a positive or negative review for a particular product. For that, identify the first three most reviewed lapotops and extract the most common keywords in both good and bad reviews. "
   ]
  },
  {
   "cell_type": "code",
   "execution_count": 28,
   "id": "efa30b86",
   "metadata": {},
   "outputs": [
    {
     "data": {
      "text/plain": [
       "{'ASUS Vivobook 15 Intel Core i5 12th Gen 1235U - (8 GB/512 GB S...': {'Top Words in Good Reviews': [('good',\n",
       "    140),\n",
       "   ('laptop', 100),\n",
       "   ('product', 88),\n",
       "   ('best', 60),\n",
       "   ('performance', 52),\n",
       "   ('battery', 48),\n",
       "   ('value', 44),\n",
       "   ('nice', 44),\n",
       "   ('excellent', 32),\n",
       "   ('money', 32)],\n",
       "  'Top Words in Bad Reviews': [('laptop', 16),\n",
       "   ('like', 8),\n",
       "   ('coding.i', 4),\n",
       "   ('thought', 4),\n",
       "   ('would', 4),\n",
       "   ('good', 4),\n",
       "   ('expensive', 4),\n",
       "   ('nothing', 4),\n",
       "   ('that,', 4),\n",
       "   ('performance', 4)]},\n",
       " 'CHUWI Intel Celeron Dual Core 11th Gen N4020 - (8 GB/256 GB SS...': {'Top Words in Good Reviews': [('good',\n",
       "    116),\n",
       "   ('nice', 64),\n",
       "   ('laptop', 60),\n",
       "   ('product', 60),\n",
       "   ('battery', 32),\n",
       "   ('best', 28),\n",
       "   ('price', 28),\n",
       "   ('performance', 24),\n",
       "   ('chuwi', 20),\n",
       "   ('quality', 20)],\n",
       "  'Top Words in Bad Reviews': [('return', 24),\n",
       "   ('buy', 20),\n",
       "   ('quality', 20),\n",
       "   ('laptop', 16),\n",
       "   ('product', 16),\n",
       "   ('problem', 12),\n",
       "   ('bad', 12),\n",
       "   ('slow', 12),\n",
       "   ('worst', 12),\n",
       "   ('battery', 8)]},\n",
       " 'Apple MacBook AIR Apple M2 - (8 GB/256 GB SSD/Mac OS Monterey)...': {'Top Words in Good Reviews': [('good',\n",
       "    108),\n",
       "   ('macbook', 92),\n",
       "   ('battery', 88),\n",
       "   ('performance', 84),\n",
       "   ('best', 84),\n",
       "   ('laptop', 84),\n",
       "   ('product', 76),\n",
       "   ('first', 72),\n",
       "   ('apple', 68),\n",
       "   ('windows', 68)],\n",
       "  'Top Words in Bad Reviews': []}}"
      ]
     },
     "execution_count": 28,
     "metadata": {},
     "output_type": "execute_result"
    }
   ],
   "source": [
    "from itertools import chain\n",
    "\n",
    "# Function to clean text and returns list of meaningful words after excluding stopwords and short words\n",
    "def safe_clean_text(text):\n",
    "    if isinstance(text, str):\n",
    "        text = text.lower()\n",
    "        tokens = text.split()\n",
    "        tokens = [word for word in tokens if word not in stopwords.words('english') and len(word) > 2]\n",
    "        return tokens\n",
    "    else:\n",
    "        return []\n",
    "    \n",
    "# Get top 3 most reviewed laptop models\n",
    "top_products = df['product_name'].value_counts().head(3).index.tolist()\n",
    "\n",
    "# Define a dictionary to store keyword results\n",
    "product_keywords = {}\n",
    "\n",
    "# Itearte through each product in the top 10 most reviewed laptops\n",
    "for product in top_products:\n",
    "    sub_df = df[df['product_name'] == product]\n",
    "\n",
    "    # Group good review words\n",
    "    good_tokens = sub_df[sub_df['rating'] >= 4]['review'].apply(safe_clean_text).tolist()    \n",
    "    # Combines list of lists into a single list\n",
    "    good_flattened = list(chain.from_iterable(good_tokens))\n",
    "    good_common = Counter(good_flattened).most_common(10)\n",
    "\n",
    "    # Group bad review words\n",
    "    bad_tokens = sub_df[sub_df['rating'] <= 2]['review'].apply(safe_clean_text).tolist()\n",
    "    bad_flattened = list(chain.from_iterable(bad_tokens))\n",
    "    bad_common = Counter(bad_flattened).most_common(10)\n",
    "\n",
    "    # Save the result into dictionary\n",
    "    product_keywords[product] = {\n",
    "        'Top Words in Good Reviews': good_common,\n",
    "        'Top Words in Bad Reviews': bad_common\n",
    "    }\n",
    "\n",
    "product_keywords\n"
   ]
  },
  {
   "cell_type": "markdown",
   "id": "4b87b1ac",
   "metadata": {},
   "source": [
    "Abve results shows that for the model ASUS Vivobook 15 Intel Core i5 12th Gen 1235U, the factors that influenced the good reviews are performance, battery, value and money and the factors that contibuted to bad reviews are expensive and performance. \n",
    "\n",
    "For the model CHUWI Intel Celeron Dual Core 11th Gen N4020, the factors that influenced the good reviews are battery, price, performance and quality and the factors that contibuted to bad reviews are quality, slow performance and battery. \n",
    "\n",
    "For the model Apple MacBook AIR Apple M2, the factors that influenced the good reviews are battery, performance and windows and there are no significant facotrs that contibuted to bad reviews."
   ]
  },
  {
   "cell_type": "markdown",
   "id": "d597569b",
   "metadata": {},
   "source": [
    "### Conclusion\n",
    "\n",
    "The main objective of this project was to analyze Flipkart laptop reviews and understand the key features that contributes to the postive or negative reviews given by users. We used Data cleaning, trend analysis and natural language processing to extract the meaningful insights from over 24000 laptop reviews.\n",
    "\n",
    "The most important observation identified was that the most frequent term that presented in the positive reviews is the \"Battery\" indicating that the long battery life is crucial for the customer satisfaction. Other common word included \"performance\", \"value\", \"display\" and \"price\". Negative reviews included the concerns such as \"battery\", \"quality\" and \"display\".\n",
    "\n",
    "These insights are very important for developing effective Decision Support System which can identify what matters most to the customers, understand product performance in relative to the user experience, product recommendations that satisfies customer requirements, and design feature improvements. "
   ]
  },
  {
   "cell_type": "markdown",
   "id": "9d4b6218",
   "metadata": {},
   "source": [
    "### References\n",
    "\n",
    "1. McKinney, W., 2012. Python for data analysis: Data wrangling with Pandas, NumPy, and IPython. s.l.:O'Reilly Media, Inc..\n",
    "2. Turban, E., 2011. Decision support and business intelligence systems. s.l.:Pearson Education India.\n",
    "3. Waskom, M. L., 2021. Seaborn: statistical data visualization. Journal of Open Source Software, 6(60), p. 3021.\n",
    "4. Bird, S. E. L. a. E. K., 2009. Natural Language Toolkit. [Online] \n",
    "   Available at: https://www.nltk.org/\n",
    "   [Accessed 9 May 2025].\n",
    "5. Distribution, A. S., 2024. Anaconda Documentation. [Online] \n",
    "   Available at: https://www.anaconda.com/docs/main\n",
    "   [Accessed 8 May 2025].\n",
    "\n",
    "\n",
    "\n"
   ]
  }
 ],
 "metadata": {
  "kernelspec": {
   "display_name": "Python 3",
   "language": "python",
   "name": "python3"
  },
  "language_info": {
   "codemirror_mode": {
    "name": "ipython",
    "version": 3
   },
   "file_extension": ".py",
   "mimetype": "text/x-python",
   "name": "python",
   "nbconvert_exporter": "python",
   "pygments_lexer": "ipython3",
   "version": "3.12.9"
  }
 },
 "nbformat": 4,
 "nbformat_minor": 5
}
